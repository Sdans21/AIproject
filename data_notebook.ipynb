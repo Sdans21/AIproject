{
 "cells": [
  {
   "cell_type": "markdown",
   "metadata": {},
   "source": [
    "# Classifying images, day or night"
   ]
  },
  {
   "cell_type": "markdown",
   "metadata": {},
   "source": [
    "## Collecting data\n",
    "The goal of this script is to take all of the images in the folder, and create a vector of color frequencies by checking each pixel"
   ]
  },
  {
   "cell_type": "markdown",
   "metadata": {},
   "source": [
    "First, let's import the libraries we will be using"
   ]
  },
  {
   "cell_type": "code",
   "execution_count": 2,
   "metadata": {},
   "outputs": [],
   "source": [
    "# Python code to read image\n",
    "import cv2\n",
    "import glob\n",
    "from scipy.cluster import hierarchy\n",
    "import math\n",
    "import pandas as pd"
   ]
  },
  {
   "cell_type": "markdown",
   "metadata": {},
   "source": [
    "I used glob to collect the images from the folders"
   ]
  },
  {
   "cell_type": "code",
   "execution_count": 10,
   "metadata": {},
   "outputs": [
    {
     "name": "stdout",
     "output_type": "stream",
     "text": [
      "images\\daytime\n",
      "\t images\\daytime\\daytime_2.jpg\n",
      "\t images\\daytime\\daytime_3.jpg\n",
      "\t images\\daytime\\daytime_1.jpg\n",
      "images\\night\n",
      "\t images\\night\\night_3.jpg\n",
      "\t images\\night\\night_2.jpg\n",
      "\t images\\night\\night_1.jpg\n",
      "images\\sunset\n",
      "\t images\\sunset\\sunset_3.jpg\n",
      "\t images\\sunset\\sunset_2.jpg\n",
      "\t images\\sunset\\sunset_1.jpg\n"
     ]
    }
   ],
   "source": [
    "folders = glob.glob(\"images/*\")\n",
    "imageFolders = []\n",
    "#vectors = []\n",
    "\n",
    "for folder in folders:\n",
    "    print(folder)\n",
    "    \n",
    "    newDir = folder + \"/*\"\n",
    "    folderImages = glob.glob(newDir)\n",
    "\n",
    "    files = []\n",
    "    for nextFile in folderImages:\n",
    "        print(\"\\t\", nextFile)\n",
    "        files.append(nextFile)\n",
    "        #vectors.append(vecFromFilename(nextFile))\n",
    "    \n",
    "    imageFolders.append(files)\n"
   ]
  },
  {
   "cell_type": "markdown",
   "metadata": {},
   "source": [
    "### OpenCV images\n",
    "before going forward, it is important to know how openCV handles images. when an cv2.imread is used on an image file. the returned object is an array of arrays of arrays. The overarching array (len: image_height) represents the image as a whole, the first level of nested arrays (len: image_width) represents a row of pixels. in each row, the values contained are each pixel, an array (len: 3, dependent on color space) of BGR color values; yes BGR, not RGB, the method that colors are stored can be converted using openCV. "
   ]
  },
  {
   "cell_type": "code",
   "execution_count": 11,
   "metadata": {},
   "outputs": [
    {
     "data": {
      "text/plain": [
       "array([[91, 85, 78],\n",
       "       [92, 86, 79],\n",
       "       [93, 87, 80],\n",
       "       ...,\n",
       "       [81, 86, 85],\n",
       "       [81, 86, 85],\n",
       "       [81, 86, 85]], dtype=uint8)"
      ]
     },
     "execution_count": 11,
     "metadata": {},
     "output_type": "execute_result"
    }
   ],
   "source": [
    "img = cv2.imread(files[0], cv2.IMREAD_COLOR)\n",
    "img[0]"
   ]
  },
  {
   "cell_type": "markdown",
   "metadata": {},
   "source": [
    "For this reason, I made a dictionary matching colors with an array representing its RGB values. (I will convert the images to rgb later on)"
   ]
  },
  {
   "cell_type": "code",
   "execution_count": 12,
   "metadata": {},
   "outputs": [
    {
     "data": {
      "text/plain": [
       "{'DARK_BLUE': [0, 0, 153],\n",
       " 'LIGHT_BLUE': [140, 236, 255],\n",
       " 'CYAN': [64, 255, 223],\n",
       " 'VIOLET': [52, 27, 179],\n",
       " 'PURPLE': [102, 0, 204],\n",
       " 'PINK': [248, 166, 255],\n",
       " 'ORANGE': [255, 187, 51],\n",
       " 'RED': [191, 19, 19],\n",
       " 'YELLOW': [255, 232, 115]}"
      ]
     },
     "execution_count": 12,
     "metadata": {},
     "output_type": "execute_result"
    }
   ],
   "source": [
    "from skycolors import rgb_colors\n",
    "rgb_colors"
   ]
  },
  {
   "cell_type": "markdown",
   "metadata": {},
   "source": [
    "Along with this, I have a function to quantify the distance between two RGB colors, that will be used to compare the color of each indivisual pixel to the colors in the dictionary"
   ]
  },
  {
   "cell_type": "code",
   "execution_count": 13,
   "metadata": {},
   "outputs": [],
   "source": [
    "def RGB_dist(color1, color2=[0,0,0]):\n",
    "    channels = zip(color1, color2)\n",
    "    sum_distance_squared = 0\n",
    "    for c1, c2 in channels:\n",
    "        sum_distance_squared += (c1 - c2) ** 2\n",
    "    return math.sqrt(sum_distance_squared) "
   ]
  },
  {
   "cell_type": "markdown",
   "metadata": {},
   "source": []
  },
  {
   "cell_type": "markdown",
   "metadata": {},
   "source": [
    "this code will ioen an image file, take a cropped version of it, and scan each pixel, adding to the frequency of whuchever color the current pixel is closest to in a \"vector\" dictionary, for the sake of time in this example, only a small portion of the image will be used, and the image will be smaller than normal"
   ]
  },
  {
   "cell_type": "code",
   "execution_count": 14,
   "metadata": {},
   "outputs": [],
   "source": [
    "\n",
    "def vecFromFilename(filename):\n",
    "    colorVec = {}\n",
    "    colorVec[\"filename\"] = filename\n",
    "    if \"daytime\" in filename:\n",
    "        colorVec[\"category\"] = \"daytime\"\n",
    "    elif \"sunset\" in filename:\n",
    "        colorVec[\"category\"] = \"sunset\"\n",
    "    elif \"night\" in filename:\n",
    "        colorVec[\"category\"] = \"night\"\n",
    "    else:\n",
    "        print(\"color category::Something has gone wrong\")\n",
    "\n",
    "    for c in rgb_colors:\n",
    "        colorVec[c] = 0\n",
    "\n",
    "    img = cv2.imread(filename, cv2.IMREAD_COLOR)\n",
    "    #print(img[0][0])\n",
    "    img = cv2.cvtColor(img, cv2.COLOR_BGR2RGB)\n",
    "    # print(img[0][0])\n",
    "    # print(RGB_dist( img[0][0]),rgb_colors[\"DARK_BLUE\"])\n",
    "    img_width = 360\n",
    "    img = image_resize(img,width=img_width)\n",
    "    # Cropping an image\n",
    "    #img = img[0:img_width, 0:img_width]\n",
    "    \n",
    "    for region in img[0:100]:\n",
    "        sumDist = 0\n",
    "        for pixel in region:\n",
    "            matchColor = closestColor(pixel,rgb_colors)\n",
    "            colorVec[matchColor] += 1\n",
    "\n",
    "        #print(\"sumDist:\",(sumDist/len(region)))\n",
    "\n",
    "    # df = pd.DataFrame(data=colorVec)\n",
    "    print(colorVec)\n",
    "    return colorVec\n",
    "\n",
    "\n",
    "def closestColor(target, dict):\n",
    "    minDist = -1\n",
    "    matchColor = \"\"\n",
    "\n",
    "    for color in dict:\n",
    "        dist = RGB_dist(target,dict[color])\n",
    "        if (minDist == -1) or (dist < minDist):\n",
    "            minDist = dist\n",
    "            matchColor = color\n",
    "\n",
    "    return matchColor\n",
    "\n",
    "\n",
    "\n",
    "def image_resize(image, width = None, height = None, inter = cv2.INTER_AREA):\n",
    "    # initialize the dimensions of the image to be resized and\n",
    "    # grab the image size\n",
    "    dim = None\n",
    "    (h, w) = image.shape[:2]\n",
    "\n",
    "    # if both the width and height are None, then return the\n",
    "    # original image\n",
    "    if width is None and height is None:\n",
    "        return image\n",
    "\n",
    "    # check to see if the width is None\n",
    "    if width is None:\n",
    "        # calculate the ratio of the height and construct the\n",
    "        # dimensions\n",
    "        r = height / float(h)\n",
    "        dim = (int(w * r), height)\n",
    "\n",
    "    # otherwise, the height is None\n",
    "    else:\n",
    "        # calculate the ratio of the width and construct the\n",
    "        # dimensions\n",
    "        r = width / float(w)\n",
    "        dim = (width, int(h * r))\n",
    "\n",
    "    # resize the image\n",
    "    resized = cv2.resize(image, dim, interpolation = inter)\n",
    "\n",
    "    # return the resized image\n",
    "    return resized\n"
   ]
  },
  {
   "cell_type": "code",
   "execution_count": 15,
   "metadata": {},
   "outputs": [],
   "source": [
    "\n",
    "def mergeVectors(vectors):\n",
    "    data_dict = {}\n",
    "    data_dict[\"filename\"] = []\n",
    "    data_dict[\"category\"] = []\n",
    "\n",
    "    for c in rgb_colors:\n",
    "        data_dict[c] = []\n",
    "\n",
    "    for vec in vectors:\n",
    "        for key in vec:\n",
    "            data_dict[key].append(vec[key])\n",
    "\n",
    "    \n",
    "    data = pd.DataFrame(data_dict)\n",
    "    print(data)\n",
    "    return data"
   ]
  },
  {
   "cell_type": "markdown",
   "metadata": {},
   "source": [
    "This will take all of the images gathered by glob, make a vector from the image, and merge them into one pandas dataframe to ship off to a csv file"
   ]
  },
  {
   "cell_type": "code",
   "execution_count": 21,
   "metadata": {},
   "outputs": [
    {
     "name": "stdout",
     "output_type": "stream",
     "text": [
      "images\\daytime\\daytime_2.jpg\n",
      "{'filename': 'images\\\\daytime\\\\daytime_2.jpg', 'category': 'daytime', 'DARK_BLUE': 3077, 'LIGHT_BLUE': 29133, 'CYAN': 0, 'VIOLET': 1529, 'PURPLE': 0, 'PINK': 29, 'ORANGE': 69, 'RED': 2141, 'YELLOW': 22}\n",
      "images\\daytime\\daytime_3.jpg\n",
      "{'filename': 'images\\\\daytime\\\\daytime_3.jpg', 'category': 'daytime', 'DARK_BLUE': 0, 'LIGHT_BLUE': 25873, 'CYAN': 6572, 'VIOLET': 1522, 'PURPLE': 0, 'PINK': 2033, 'ORANGE': 0, 'RED': 0, 'YELLOW': 0}\n",
      "images\\daytime\\daytime_1.jpg\n",
      "{'filename': 'images\\\\daytime\\\\daytime_1.jpg', 'category': 'daytime', 'DARK_BLUE': 5, 'LIGHT_BLUE': 18582, 'CYAN': 1432, 'VIOLET': 15791, 'PURPLE': 0, 'PINK': 190, 'ORANGE': 0, 'RED': 0, 'YELLOW': 0}\n",
      "images\\night\\night_3.jpg\n",
      "{'filename': 'images\\\\night\\\\night_3.jpg', 'category': 'night', 'DARK_BLUE': 18231, 'LIGHT_BLUE': 0, 'CYAN': 0, 'VIOLET': 17769, 'PURPLE': 0, 'PINK': 0, 'ORANGE': 0, 'RED': 0, 'YELLOW': 0}\n",
      "images\\night\\night_2.jpg\n",
      "{'filename': 'images\\\\night\\\\night_2.jpg', 'category': 'night', 'DARK_BLUE': 35801, 'LIGHT_BLUE': 3, 'CYAN': 0, 'VIOLET': 196, 'PURPLE': 0, 'PINK': 0, 'ORANGE': 0, 'RED': 0, 'YELLOW': 0}\n",
      "images\\night\\night_1.jpg\n",
      "{'filename': 'images\\\\night\\\\night_1.jpg', 'category': 'night', 'DARK_BLUE': 34966, 'LIGHT_BLUE': 0, 'CYAN': 6, 'VIOLET': 1027, 'PURPLE': 0, 'PINK': 0, 'ORANGE': 0, 'RED': 1, 'YELLOW': 0}\n",
      "images\\sunset\\sunset_3.jpg\n",
      "{'filename': 'images\\\\sunset\\\\sunset_3.jpg', 'category': 'sunset', 'DARK_BLUE': 247, 'LIGHT_BLUE': 0, 'CYAN': 0, 'VIOLET': 11509, 'PURPLE': 0, 'PINK': 0, 'ORANGE': 16128, 'RED': 2906, 'YELLOW': 5210}\n",
      "images\\sunset\\sunset_2.jpg\n",
      "{'filename': 'images\\\\sunset\\\\sunset_2.jpg', 'category': 'sunset', 'DARK_BLUE': 193, 'LIGHT_BLUE': 0, 'CYAN': 0, 'VIOLET': 1487, 'PURPLE': 0, 'PINK': 0, 'ORANGE': 4978, 'RED': 29342, 'YELLOW': 0}\n",
      "images\\sunset\\sunset_1.jpg\n",
      "{'filename': 'images\\\\sunset\\\\sunset_1.jpg', 'category': 'sunset', 'DARK_BLUE': 0, 'LIGHT_BLUE': 0, 'CYAN': 0, 'VIOLET': 0, 'PURPLE': 0, 'PINK': 0, 'ORANGE': 8199, 'RED': 27788, 'YELLOW': 13}\n",
      "                       filename category  DARK_BLUE  LIGHT_BLUE  CYAN  VIOLET  \\\n",
      "0  images\\daytime\\daytime_2.jpg  daytime       3077       29133     0    1529   \n",
      "1  images\\daytime\\daytime_3.jpg  daytime          0       25873  6572    1522   \n",
      "2  images\\daytime\\daytime_1.jpg  daytime          5       18582  1432   15791   \n",
      "3      images\\night\\night_3.jpg    night      18231           0     0   17769   \n",
      "4      images\\night\\night_2.jpg    night      35801           3     0     196   \n",
      "5      images\\night\\night_1.jpg    night      34966           0     6    1027   \n",
      "6    images\\sunset\\sunset_3.jpg   sunset        247           0     0   11509   \n",
      "7    images\\sunset\\sunset_2.jpg   sunset        193           0     0    1487   \n",
      "8    images\\sunset\\sunset_1.jpg   sunset          0           0     0       0   \n",
      "\n",
      "   PURPLE  PINK  ORANGE    RED  YELLOW  \n",
      "0       0    29      69   2141      22  \n",
      "1       0  2033       0      0       0  \n",
      "2       0   190       0      0       0  \n",
      "3       0     0       0      0       0  \n",
      "4       0     0       0      0       0  \n",
      "5       0     0       0      1       0  \n",
      "6       0     0   16128   2906    5210  \n",
      "7       0     0    4978  29342       0  \n",
      "8       0     0    8199  27788      13  \n"
     ]
    }
   ],
   "source": [
    "vectors = []\n",
    "for folder in imageFolders:\n",
    "    for imageFile in folder:\n",
    "        print(imageFile)\n",
    "        vectors.append(vecFromFilename(imageFile))\n",
    "\n",
    "\n",
    "data  = mergeVectors(vectors)\n",
    "outfileName = input(\"enter output file name: \")\n",
    "data.to_csv(outfileName)"
   ]
  }
 ],
 "metadata": {
  "kernelspec": {
   "display_name": "Python 3.9.12 ('base')",
   "language": "python",
   "name": "python3"
  },
  "language_info": {
   "codemirror_mode": {
    "name": "ipython",
    "version": 3
   },
   "file_extension": ".py",
   "mimetype": "text/x-python",
   "name": "python",
   "nbconvert_exporter": "python",
   "pygments_lexer": "ipython3",
   "version": "3.9.12"
  },
  "orig_nbformat": 4,
  "vscode": {
   "interpreter": {
    "hash": "a83b9bd81511159c621682c986d280b06dbba916b9ac5c0ea52bd83431e1b84a"
   }
  }
 },
 "nbformat": 4,
 "nbformat_minor": 2
}
